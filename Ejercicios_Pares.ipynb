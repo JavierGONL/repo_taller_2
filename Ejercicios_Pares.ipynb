{
 "cells": [
  {
   "cell_type": "markdown",
   "metadata": {},
   "source": [
    "2. Desarrollar un programa que ingrese un número flotante n y separe su parte entera de la parte decimal, y luego entregue los dígitos tanto de la parte entera como de la decimal."
   ]
  },
  {
   "cell_type": "code",
   "execution_count": null,
   "metadata": {},
   "outputs": [],
   "source": [
    "def separador_de_digitos(numeroFloat):\n",
    "    # se divide el numero racional por la division entera de 1 y devuelve solo la parte entera del numero\n",
    "    separador_parte_entera = numeroFloat // 1\n",
    "    # se le resta la parte entera al numero racional y el resultado son los decimales\n",
    "    separador_parte_decimal = float(numeroFloat - int(separador_parte_entera))\n",
    "    return print(f\"la parte entera es: { separador_parte_entera} y la parte decimal es: {separador_parte_decimal}\")\n",
    "if __name__ == \"__main__\":\n",
    "    numeroFloat = float(input(\"ingrese un numero racional : \"))\n",
    "    separador_de_digitos(numeroFloat)"
   ]
  },
  {
   "cell_type": "markdown",
   "metadata": {},
   "source": [
    "4. Diseñar una función que permita calcular una aproximación de la función coseno alrededor de 0 para cualquier valor x (real), utilizando los primeros n términos de la serie de Taylor. nota: use math para traer la función coseno y mostrar la diferencia entre el valor real y la aproximación. Calcule con cuántos términos de la serie (i.e: cuáles valores de n), se tienen errores del 10%, 1%, 0.1% y 0.001%."
   ]
  },
  {
   "cell_type": "code",
   "execution_count": null,
   "metadata": {},
   "outputs": [],
   "source": [
    "import math\n",
    "# Se importa la librería math para poder usar la función coseno\n",
    "def factorial (numeroN = int)->int:\n",
    "    # Se crea una función que calcula el factorial de un número\n",
    "    if numeroN == 0:\n",
    "        return 1\n",
    "    else:\n",
    "        return numeroN * factorial(numeroN - 1) # se usa recursividad para calcular el factorial\n",
    "def rango_de_error(numeroX, numeroN): \n",
    "    # Se crea una función que calcula el rango de error de la serie de Maclaurin del coseno con respecto a la función coseno de la librería math \n",
    "    maclaurin = funcion_coseno(numeroX, numeroN)\n",
    "    math_cos = math.cos(numeroX)\n",
    "    error_relativo = (math_cos - maclaurin) / math_cos # Se calcula el error relativo dividiendo la diferencia entre el coseno de math y el coseno de la serie de Maclaurin entre el coseno de math\n",
    "    porcentaje_error = round(abs(error_relativo) * 100,5) # Se redondea el valor absoluto del error relativo multiplicado por 100 a 5 decimales\n",
    "    return porcentaje_error\n",
    "def funcion_coseno(numeroX , numeroN : int) -> float:\n",
    "    # Se crea una función que calcula el coseno de un numero usando la serie de Maclaurin con un numero de términos dado\n",
    "    resultado = 0\n",
    "    for i in range(numeroN + 1):\n",
    "        coseno_serie_maclaurin = ((-1) ** i) * ((numeroX) ** (2 * i)) / factorial(2 * i)\n",
    "        resultado += coseno_serie_maclaurin\n",
    "    return resultado\n",
    "def iteraciones(numeroX: float) -> int:\n",
    "    # se crea una funcion que calcula el numero de iteracion necesacirias para que el rango de error sea mas o nemos 10% , 1% , 0.1% y 0.01% , cuando es menor a 0.001 se detiene\n",
    "    numeroN = 0\n",
    "    # Se inicializan las variables que indican si ya se imprimio el resultado para el rango de error correspondiente y asi no imprimir en bucle estas variables\n",
    "    print_10 = False\n",
    "    print_1 = False\n",
    "    print_01 = False\n",
    "    print_001 = False\n",
    "    while True:\n",
    "        # se inicializa el bucle y se calcula el rango de error y el resultado de la funcion coseno con el numero de iteraciones actual \n",
    "        numeroN += 1\n",
    "        error = rango_de_error(numeroX, numeroN)\n",
    "        resultado = funcion_coseno(numeroX, numeroN)\n",
    "        # inica el if para imprimir los resultados de los rangos de error segun el % de error que haya en esa iteracion\n",
    "        if error <= 10 and not print_10:\n",
    "            print(f\"el rango de error es: {error} , el número de términos es: {numeroN} y el resultado es: {resultado}\")\n",
    "            print_10 = True\n",
    "        elif error <= 1 and not print_1:\n",
    "            print(f\"el rango de error es: {error} , el número de términos es: {numeroN} y el resultado es: {resultado}\")\n",
    "            print_1 = True\n",
    "        elif error <= 0.1 and not print_01:\n",
    "            print(f\"el rango de error es: {error} , el número de términos es: {numeroN} y el resultado es: {resultado}\")\n",
    "            print_01 = True\n",
    "        elif error <= 0.01 and not print_001:\n",
    "            print(f\"el rango de error es: {error} , el número de términos es: {numeroN} y el resultado es: {resultado}\")\n",
    "            print_001 = True\n",
    "        elif error <= 0.001:\n",
    "            # cuando el % de error esta entre lo que queremos se detiene el bucle \n",
    "            break\n",
    "    # se retorna el numero de iteraciones\n",
    "    return numeroN\n",
    "if __name__ == \"__main__\":\n",
    "    # se pide que se ingrese un numero y se llama a la funcion iteraciones con el numero ingresado y se imprime el resultado\n",
    "    numeroX = float(input(\"ingrese un numero: \"))\n",
    "    numeroN  = iteraciones(numeroX)\n",
    "    print(f\"el resultado aproximado de la funcion coseno es: {funcion_coseno(numeroX,numeroN)}, el verdadero es: {math.cos(numeroX)} y el rango de error es {rango_de_error(numeroX,numeroN)}%\")"
   ]
  },
  {
   "cell_type": "markdown",
   "metadata": {},
   "source": [
    "6. Desarrollar un programa que determine si en una lista existen o no elementos repetidos. Pista: Maneje valores booleanos y utilice el operador in."
   ]
  },
  {
   "cell_type": "code",
   "execution_count": null,
   "metadata": {},
   "outputs": [],
   "source": [
    "def adicionlistanoarreglo(l:list,k:bool):\n",
    "    # Se crea una funcion para agregar listas\n",
    "    i=1\n",
    "    while i==1:\n",
    "        e= input(\"ingresa un dato para la lista:\")\n",
    "        l.append(e)\n",
    "        i=int(input(\"deseas ingresar otro dato? (1, cualquier otro numero para no)\"))\n",
    "    if k==True: print(\"nuestra primera lista fue: \"+ str(l)+ \", la siguiente lista no debe tener mas de \"+ str(len(l))+\" elementos\")\n",
    "    else: print(\"nuestra lista fue: \"+ str(l)+ \", tiene \"+ str(len(l))+\" elementos.\")\n",
    "    #2 opciones que solo cambian el mensaje de salida, para que tenga coherencia si se usa en ejercicos que necesiten 2 listas\n",
    "if __name__==\"__main__\":\n",
    "    p:bool=False\n",
    "    lista1=[]\n",
    "    lista2=[]\n",
    "    adicionlistanoarreglo(lista1,False)\n",
    "    for i in lista1:\n",
    "        #para los valores de la lista evaluamos cuantas veces se repiten en la propia lista con el metodo count\n",
    "        if lista1.count(i)!=1 and i in lista2!=True:\n",
    "            print(\"Hay valores repetidos, siendo el numero \"+str(i)+\" el cual se repite \"+str(lista1.count(i))+\" veces\")\n",
    "            lista2.append(i)\n",
    "            p=True\n",
    "        #usamos un booleando para informar si hay o no valores repetidos ademas de agregar a los valores que pasen por una lista auxiliar para evitar que se repita el mensaje\n",
    "    if p==True: \n",
    "        print(\"en la lista hay valores repetidos\")\n",
    "    else:\n",
    "        print(\"No hay valores repetidos\")\n"
   ]
  },
  {
   "cell_type": "markdown",
   "metadata": {},
   "source": [
    "8. Desarrollar un programa que dadas dos listas determine que elementos tiene la primer lista que no tenga la segunda lista."
   ]
  },
  {
   "cell_type": "code",
   "execution_count": null,
   "metadata": {},
   "outputs": [],
   "source": [
    "from Ejercicio_6_Taller_2 import adicionlistanoarreglo\n",
    "#importamos la funcion de listas\n",
    "if __name__==\"__main__\":\n",
    "    a:list=[]\n",
    "    b:list=[]\n",
    "    q:list=[]\n",
    "    #creamos 3 listas las 2 iniciales y la resultante\n",
    "    adicionlistanoarreglo(a,True)\n",
    "    adicionlistanoarreglo(b,False)\n",
    "    #agreagamos los valroes a las listas\n",
    "    for i in a:\n",
    "        #recorremos la primera lista\n",
    "        if i in b:\n",
    "            #si el valor de la primera lista esta en la segunda se salta\n",
    "            continue\n",
    "        q.append(i)\n",
    "        #en caso contrario se agrega a la lista resultante\n",
    "    print(\"La lista resultante es: \"+str(q))\n",
    "    #se muestra el resultado"
   ]
  },
  {
   "cell_type": "markdown",
   "metadata": {},
   "source": [
    "10. Suponga que se tiene una lista A con ciertos números enteros. Desarrolle una función que, independientemente de los números que se encuentran en la lista A, tome aquellos números que son múltiplos de 3 y los guarde en una lista nueva, la cual debe ser retornada por la función. Implemente la perspectiva de un patrón de acumulación y también de comprensión de listas. Desafío: Si ya lo logró, inténtelo ahora sin utilizar el módulo (%). Pista: Un número es multiplo de 3 si la suma de sus dígitos también lo es, ¿verdad?"
   ]
  },
  {
   "cell_type": "code",
   "execution_count": null,
   "metadata": {},
   "outputs": [],
   "source": [
    "#Suponga que se tiene una lista A con ciertos números enteros. Desarrolle una función que, independientemente de los números que se encuentran en la lista A, \n",
    "#tome aquellos números que son múltiplos de 3 y los guarde en una lista nueva, la cual debe ser retornada por la función. \n",
    "#Implemente la perspectiva de un patrón de acumulación y también de comprensión de listas. \n",
    "#Desafío: Si ya lo logró, inténtelo ahora sin utilizar el módulo (%). Pista: Un número es multiplo de 3 si la suma de sus dígitos también lo es, ¿verdad?\n",
    "\n",
    "# :D\n",
    "lista_A=[1,2,3,4,5,6,7,8,9,10,11,12,13,14,15,16,17,18,19,20] #esta es una lista de prueba\n",
    "múltiplos_3=[] #aquí se añaden los múltiplos de 3\n",
    "b=3\n",
    "def múltiplos_3_list_comprenhension(lista_A:list,b:int):\n",
    "    múltiplos_3=[a for a in lista_A if ((float(a/b)-(int(a/b)))==0)] \n",
    "    #aquí se revisa si la división de un número entre 3 da un resultado decimal, de darse el caso, no es múltiplo de 3\n",
    "    return múltiplos_3\n",
    "def múltiplos_3_patrón_acumulación(lista_A:list,b:int): \n",
    "    #en esta función, se suma 3 hasta que de el número deseado, si da, se agrega a la lista, si se pasa, no se agrega\n",
    "    múltiplos_3=[]\n",
    "    for a in lista_A:\n",
    "        while b<a:\n",
    "            (b)+=3\n",
    "        if b==a:\n",
    "            múltiplos_3.append(a)\n",
    "    return múltiplos_3\n",
    "        \n",
    "if __name__==\"__main__\":\n",
    "    múltiplos_3_l=múltiplos_3_list_comprenhension(lista_A,b)\n",
    "    print(\"los múltiplos de 3 obtenidos de la lista usando list comprenhension son: \",múltiplos_3_l)\n",
    "    múltiplos_3_a=múltiplos_3_patrón_acumulación(lista_A,b)\n",
    "    print(\"los múltiplos de 3 obtenidos de la lista usando patrones de acumulación son: \",múltiplos_3_a)"
   ]
  }
 ],
 "metadata": {
  "kernelspec": {
   "display_name": "Python 3",
   "language": "python",
   "name": "python3"
  },
  "language_info": {
   "codemirror_mode": {
    "name": "ipython",
    "version": 3
   },
   "file_extension": ".py",
   "mimetype": "text/x-python",
   "name": "python",
   "nbconvert_exporter": "python",
   "pygments_lexer": "ipython3",
   "version": "3.12.3"
  }
 },
 "nbformat": 4,
 "nbformat_minor": 2
}
